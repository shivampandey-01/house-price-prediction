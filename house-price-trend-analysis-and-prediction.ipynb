{
 "cells": [
  {
   "cell_type": "markdown",
   "id": "7592a321",
   "metadata": {
    "papermill": {
     "duration": 0.009775,
     "end_time": "2024-04-12T04:05:46.865251",
     "exception": false,
     "start_time": "2024-04-12T04:05:46.855476",
     "status": "completed"
    },
    "tags": []
   },
   "source": [
    "# **House Price Trend Analysis and Price Prediction**\n",
    "---"
   ]
  },
  {
   "cell_type": "markdown",
   "id": "7b14faf5",
   "metadata": {
    "papermill": {
     "duration": 0.008895,
     "end_time": "2024-04-12T04:05:46.883501",
     "exception": false,
     "start_time": "2024-04-12T04:05:46.874606",
     "status": "completed"
    },
    "tags": []
   },
   "source": [
    "# **Importing Data**\n",
    "\n",
    "---"
   ]
  },
  {
   "cell_type": "code",
   "execution_count": 1,
   "id": "7c6d3341",
   "metadata": {
    "_cell_guid": "b1076dfc-b9ad-4769-8c92-a6c4dae69d19",
    "_uuid": "8f2839f25d086af736a60e9eeb907d3b93b6e0e5",
    "execution": {
     "iopub.execute_input": "2024-04-12T04:05:46.903616Z",
     "iopub.status.busy": "2024-04-12T04:05:46.903181Z",
     "iopub.status.idle": "2024-04-12T04:05:49.837358Z",
     "shell.execute_reply": "2024-04-12T04:05:49.835965Z"
    },
    "papermill": {
     "duration": 2.947265,
     "end_time": "2024-04-12T04:05:49.839984",
     "exception": false,
     "start_time": "2024-04-12T04:05:46.892719",
     "status": "completed"
    },
    "tags": []
   },
   "outputs": [],
   "source": [
    "# importing required libraries\n",
    "import numpy as np\n",
    "import pandas as pd\n"
   ]
  },
  {
   "cell_type": "code",
   "execution_count": 2,
   "id": "358c4a6c",
   "metadata": {},
   "outputs": [],
   "source": [
    "# visualization\n",
    "import seaborn as sns\n",
    "import matplotlib.pyplot as plt\n",
    "\n"
   ]
  },
  {
   "cell_type": "code",
   "execution_count": 3,
   "id": "8879d231",
   "metadata": {},
   "outputs": [],
   "source": [
    "# finding source\n",
    "import os\n",
    "\n",
    "# removing warnings\n",
    "import warnings \n",
    "warnings.filterwarnings(\"ignore\")\n",
    "\n"
   ]
  },
  {
   "cell_type": "code",
   "execution_count": 4,
   "id": "282251ba",
   "metadata": {},
   "outputs": [],
   "source": [
    "# data preprocessing\n",
    "from sklearn.preprocessing import LabelEncoder, StandardScaler\n",
    "from sklearn.metrics import mean_squared_error, r2_score\n",
    "from sklearn.model_selection import train_test_split\n",
    "\n",
    "# Machine Learning\n",
    "from sklearn.linear_model import LinearRegression, Ridge, Lasso, ElasticNet\n",
    "from sklearn.tree import DecisionTreeRegressor\n",
    "from sklearn.ensemble import RandomForestRegressor, GradientBoostingRegressor\n",
    "from sklearn.neighbors import KNeighborsRegressor"
   ]
  },
  {
   "cell_type": "code",
   "execution_count": null,
   "id": "00eb09f5",
   "metadata": {},
   "outputs": [],
   "source": []
  },
  {
   "cell_type": "code",
   "execution_count": 2,
   "id": "9babfc38",
   "metadata": {
    "execution": {
     "iopub.execute_input": "2024-04-12T04:05:49.864384Z",
     "iopub.status.busy": "2024-04-12T04:05:49.862432Z",
     "iopub.status.idle": "2024-04-12T04:05:49.868068Z",
     "shell.execute_reply": "2024-04-12T04:05:49.86703Z"
    },
    "papermill": {
     "duration": 0.018586,
     "end_time": "2024-04-12T04:05:49.870153",
     "exception": false,
     "start_time": "2024-04-12T04:05:49.851567",
     "status": "completed"
    },
    "tags": []
   },
   "outputs": [],
   "source": [
    "# disabling warnings\n",
    "warnings.filterwarnings(\"ignore\", category=UserWarning)"
   ]
  },
  {
   "cell_type": "code",
   "execution_count": 7,
   "id": "ef8dac65",
   "metadata": {
    "execution": {
     "iopub.execute_input": "2024-04-12T04:05:49.890877Z",
     "iopub.status.busy": "2024-04-12T04:05:49.890499Z",
     "iopub.status.idle": "2024-04-12T04:05:50.072925Z",
     "shell.execute_reply": "2024-04-12T04:05:50.07174Z"
    },
    "papermill": {
     "duration": 0.195345,
     "end_time": "2024-04-12T04:05:50.075124",
     "exception": false,
     "start_time": "2024-04-12T04:05:49.879779",
     "status": "completed"
    },
    "tags": []
   },
   "outputs": [],
   "source": [
    "# importing file\n",
    "df = pd.read_csv(\"house_prices.csv\")"
   ]
  },
  {
   "cell_type": "code",
   "execution_count": 8,
   "id": "967412a5",
   "metadata": {
    "execution": {
     "iopub.execute_input": "2024-04-12T04:05:50.098076Z",
     "iopub.status.busy": "2024-04-12T04:05:50.097483Z",
     "iopub.status.idle": "2024-04-12T04:05:50.122009Z",
     "shell.execute_reply": "2024-04-12T04:05:50.120723Z"
    },
    "papermill": {
     "duration": 0.038373,
     "end_time": "2024-04-12T04:05:50.124105",
     "exception": false,
     "start_time": "2024-04-12T04:05:50.085732",
     "status": "completed"
    },
    "tags": []
   },
   "outputs": [
    {
     "data": {
      "text/html": [
       "<div>\n",
       "<style scoped>\n",
       "    .dataframe tbody tr th:only-of-type {\n",
       "        vertical-align: middle;\n",
       "    }\n",
       "\n",
       "    .dataframe tbody tr th {\n",
       "        vertical-align: top;\n",
       "    }\n",
       "\n",
       "    .dataframe thead th {\n",
       "        text-align: right;\n",
       "    }\n",
       "</style>\n",
       "<table border=\"1\" class=\"dataframe\">\n",
       "  <thead>\n",
       "    <tr style=\"text-align: right;\">\n",
       "      <th></th>\n",
       "      <th>Unnamed: 0</th>\n",
       "      <th>property_type</th>\n",
       "      <th>price</th>\n",
       "      <th>location</th>\n",
       "      <th>city</th>\n",
       "      <th>baths</th>\n",
       "      <th>purpose</th>\n",
       "      <th>bedrooms</th>\n",
       "      <th>Area_in_Marla</th>\n",
       "    </tr>\n",
       "  </thead>\n",
       "  <tbody>\n",
       "    <tr>\n",
       "      <th>0</th>\n",
       "      <td>0</td>\n",
       "      <td>Flat</td>\n",
       "      <td>10000000</td>\n",
       "      <td>G-10</td>\n",
       "      <td>Islamabad</td>\n",
       "      <td>2</td>\n",
       "      <td>For Sale</td>\n",
       "      <td>2</td>\n",
       "      <td>4.0</td>\n",
       "    </tr>\n",
       "    <tr>\n",
       "      <th>1</th>\n",
       "      <td>1</td>\n",
       "      <td>Flat</td>\n",
       "      <td>6900000</td>\n",
       "      <td>E-11</td>\n",
       "      <td>Islamabad</td>\n",
       "      <td>3</td>\n",
       "      <td>For Sale</td>\n",
       "      <td>3</td>\n",
       "      <td>5.6</td>\n",
       "    </tr>\n",
       "    <tr>\n",
       "      <th>2</th>\n",
       "      <td>2</td>\n",
       "      <td>House</td>\n",
       "      <td>16500000</td>\n",
       "      <td>G-15</td>\n",
       "      <td>Islamabad</td>\n",
       "      <td>6</td>\n",
       "      <td>For Sale</td>\n",
       "      <td>5</td>\n",
       "      <td>8.0</td>\n",
       "    </tr>\n",
       "    <tr>\n",
       "      <th>3</th>\n",
       "      <td>3</td>\n",
       "      <td>House</td>\n",
       "      <td>43500000</td>\n",
       "      <td>Bani Gala</td>\n",
       "      <td>Islamabad</td>\n",
       "      <td>4</td>\n",
       "      <td>For Sale</td>\n",
       "      <td>4</td>\n",
       "      <td>40.0</td>\n",
       "    </tr>\n",
       "    <tr>\n",
       "      <th>4</th>\n",
       "      <td>4</td>\n",
       "      <td>House</td>\n",
       "      <td>7000000</td>\n",
       "      <td>DHA Defence</td>\n",
       "      <td>Islamabad</td>\n",
       "      <td>3</td>\n",
       "      <td>For Sale</td>\n",
       "      <td>3</td>\n",
       "      <td>8.0</td>\n",
       "    </tr>\n",
       "  </tbody>\n",
       "</table>\n",
       "</div>"
      ],
      "text/plain": [
       "   Unnamed: 0 property_type     price     location       city  baths  \\\n",
       "0           0          Flat  10000000         G-10  Islamabad      2   \n",
       "1           1          Flat   6900000         E-11  Islamabad      3   \n",
       "2           2         House  16500000         G-15  Islamabad      6   \n",
       "3           3         House  43500000    Bani Gala  Islamabad      4   \n",
       "4           4         House   7000000  DHA Defence  Islamabad      3   \n",
       "\n",
       "    purpose  bedrooms  Area_in_Marla  \n",
       "0  For Sale         2            4.0  \n",
       "1  For Sale         3            5.6  \n",
       "2  For Sale         5            8.0  \n",
       "3  For Sale         4           40.0  \n",
       "4  For Sale         3            8.0  "
      ]
     },
     "execution_count": 8,
     "metadata": {},
     "output_type": "execute_result"
    }
   ],
   "source": [
    "# looking at data\n",
    "df.head()"
   ]
  },
  {
   "cell_type": "markdown",
   "id": "88bd42a7",
   "metadata": {
    "papermill": {
     "duration": 0.01033,
     "end_time": "2024-04-12T04:05:50.144243",
     "exception": false,
     "start_time": "2024-04-12T04:05:50.133913",
     "status": "completed"
    },
    "tags": []
   },
   "source": [
    "# **Data Cleaning**\n",
    "---"
   ]
  },
  {
   "cell_type": "code",
   "execution_count": 9,
   "id": "f9bb6326",
   "metadata": {
    "execution": {
     "iopub.execute_input": "2024-04-12T04:05:50.166129Z",
     "iopub.status.busy": "2024-04-12T04:05:50.165757Z",
     "iopub.status.idle": "2024-04-12T04:05:50.184083Z",
     "shell.execute_reply": "2024-04-12T04:05:50.182576Z"
    },
    "papermill": {
     "duration": 0.032578,
     "end_time": "2024-04-12T04:05:50.18673",
     "exception": false,
     "start_time": "2024-04-12T04:05:50.154152",
     "status": "completed"
    },
    "tags": []
   },
   "outputs": [],
   "source": [
    "# dropping unnecessary columns\n",
    "df.drop([\"Unnamed: 0\"], axis = 1, inplace = True)"
   ]
  },
  {
   "cell_type": "code",
   "execution_count": 10,
   "id": "38f23fe6",
   "metadata": {
    "execution": {
     "iopub.execute_input": "2024-04-12T04:05:50.208239Z",
     "iopub.status.busy": "2024-04-12T04:05:50.207868Z",
     "iopub.status.idle": "2024-04-12T04:05:50.230328Z",
     "shell.execute_reply": "2024-04-12T04:05:50.229003Z"
    },
    "papermill": {
     "duration": 0.036128,
     "end_time": "2024-04-12T04:05:50.232878",
     "exception": false,
     "start_time": "2024-04-12T04:05:50.19675",
     "status": "completed"
    },
    "tags": []
   },
   "outputs": [
    {
     "data": {
      "text/plain": [
       "property_type    0\n",
       "price            0\n",
       "location         0\n",
       "city             0\n",
       "baths            0\n",
       "purpose          0\n",
       "bedrooms         0\n",
       "Area_in_Marla    0\n",
       "dtype: int64"
      ]
     },
     "execution_count": 10,
     "metadata": {},
     "output_type": "execute_result"
    }
   ],
   "source": [
    "df.isnull().sum()"
   ]
  },
  {
   "cell_type": "code",
   "execution_count": 11,
   "id": "458bd79f",
   "metadata": {
    "execution": {
     "iopub.execute_input": "2024-04-12T04:05:50.25549Z",
     "iopub.status.busy": "2024-04-12T04:05:50.255141Z",
     "iopub.status.idle": "2024-04-12T04:05:50.310617Z",
     "shell.execute_reply": "2024-04-12T04:05:50.30956Z"
    },
    "papermill": {
     "duration": 0.069532,
     "end_time": "2024-04-12T04:05:50.312721",
     "exception": false,
     "start_time": "2024-04-12T04:05:50.243189",
     "status": "completed"
    },
    "tags": []
   },
   "outputs": [
    {
     "data": {
      "text/html": [
       "<div>\n",
       "<style scoped>\n",
       "    .dataframe tbody tr th:only-of-type {\n",
       "        vertical-align: middle;\n",
       "    }\n",
       "\n",
       "    .dataframe tbody tr th {\n",
       "        vertical-align: top;\n",
       "    }\n",
       "\n",
       "    .dataframe thead th {\n",
       "        text-align: right;\n",
       "    }\n",
       "</style>\n",
       "<table border=\"1\" class=\"dataframe\">\n",
       "  <thead>\n",
       "    <tr style=\"text-align: right;\">\n",
       "      <th></th>\n",
       "      <th>property_type</th>\n",
       "      <th>price</th>\n",
       "      <th>location</th>\n",
       "      <th>city</th>\n",
       "      <th>baths</th>\n",
       "      <th>purpose</th>\n",
       "      <th>bedrooms</th>\n",
       "      <th>Area_in_Marla</th>\n",
       "    </tr>\n",
       "  </thead>\n",
       "  <tbody>\n",
       "    <tr>\n",
       "      <th>0</th>\n",
       "      <td>Flat</td>\n",
       "      <td>10000000</td>\n",
       "      <td>G-10</td>\n",
       "      <td>Islamabad</td>\n",
       "      <td>2</td>\n",
       "      <td>For Sale</td>\n",
       "      <td>2</td>\n",
       "      <td>4.0</td>\n",
       "    </tr>\n",
       "    <tr>\n",
       "      <th>1</th>\n",
       "      <td>Flat</td>\n",
       "      <td>6900000</td>\n",
       "      <td>E-11</td>\n",
       "      <td>Islamabad</td>\n",
       "      <td>3</td>\n",
       "      <td>For Sale</td>\n",
       "      <td>3</td>\n",
       "      <td>5.6</td>\n",
       "    </tr>\n",
       "    <tr>\n",
       "      <th>2</th>\n",
       "      <td>House</td>\n",
       "      <td>16500000</td>\n",
       "      <td>G-15</td>\n",
       "      <td>Islamabad</td>\n",
       "      <td>6</td>\n",
       "      <td>For Sale</td>\n",
       "      <td>5</td>\n",
       "      <td>8.0</td>\n",
       "    </tr>\n",
       "    <tr>\n",
       "      <th>3</th>\n",
       "      <td>House</td>\n",
       "      <td>43500000</td>\n",
       "      <td>Bani Gala</td>\n",
       "      <td>Islamabad</td>\n",
       "      <td>4</td>\n",
       "      <td>For Sale</td>\n",
       "      <td>4</td>\n",
       "      <td>40.0</td>\n",
       "    </tr>\n",
       "    <tr>\n",
       "      <th>4</th>\n",
       "      <td>House</td>\n",
       "      <td>7000000</td>\n",
       "      <td>DHA Defence</td>\n",
       "      <td>Islamabad</td>\n",
       "      <td>3</td>\n",
       "      <td>For Sale</td>\n",
       "      <td>3</td>\n",
       "      <td>8.0</td>\n",
       "    </tr>\n",
       "  </tbody>\n",
       "</table>\n",
       "</div>"
      ],
      "text/plain": [
       "  property_type     price     location       city  baths   purpose  bedrooms  \\\n",
       "0          Flat  10000000         G-10  Islamabad      2  For Sale         2   \n",
       "1          Flat   6900000         E-11  Islamabad      3  For Sale         3   \n",
       "2         House  16500000         G-15  Islamabad      6  For Sale         5   \n",
       "3         House  43500000    Bani Gala  Islamabad      4  For Sale         4   \n",
       "4         House   7000000  DHA Defence  Islamabad      3  For Sale         3   \n",
       "\n",
       "   Area_in_Marla  \n",
       "0            4.0  \n",
       "1            5.6  \n",
       "2            8.0  \n",
       "3           40.0  \n",
       "4            8.0  "
      ]
     },
     "execution_count": 11,
     "metadata": {},
     "output_type": "execute_result"
    }
   ],
   "source": [
    "df = df.drop_duplicates().reset_index(drop = True)\n",
    "df.head()"
   ]
  },
  {
   "cell_type": "code",
   "execution_count": 12,
   "id": "1d12e1ad",
   "metadata": {
    "execution": {
     "iopub.execute_input": "2024-04-12T04:05:50.333895Z",
     "iopub.status.busy": "2024-04-12T04:05:50.333496Z",
     "iopub.status.idle": "2024-04-12T04:05:50.352165Z",
     "shell.execute_reply": "2024-04-12T04:05:50.3511Z"
    },
    "papermill": {
     "duration": 0.031929,
     "end_time": "2024-04-12T04:05:50.354651",
     "exception": false,
     "start_time": "2024-04-12T04:05:50.322722",
     "status": "completed"
    },
    "tags": []
   },
   "outputs": [
    {
     "data": {
      "text/html": [
       "<div>\n",
       "<style scoped>\n",
       "    .dataframe tbody tr th:only-of-type {\n",
       "        vertical-align: middle;\n",
       "    }\n",
       "\n",
       "    .dataframe tbody tr th {\n",
       "        vertical-align: top;\n",
       "    }\n",
       "\n",
       "    .dataframe thead th {\n",
       "        text-align: right;\n",
       "    }\n",
       "</style>\n",
       "<table border=\"1\" class=\"dataframe\">\n",
       "  <thead>\n",
       "    <tr style=\"text-align: right;\">\n",
       "      <th></th>\n",
       "      <th>type</th>\n",
       "      <th>locality</th>\n",
       "      <th>city</th>\n",
       "      <th>baths</th>\n",
       "      <th>beds</th>\n",
       "      <th>purpose</th>\n",
       "      <th>marla</th>\n",
       "      <th>price</th>\n",
       "    </tr>\n",
       "  </thead>\n",
       "  <tbody>\n",
       "    <tr>\n",
       "      <th>0</th>\n",
       "      <td>Flat</td>\n",
       "      <td>G-10</td>\n",
       "      <td>Islamabad</td>\n",
       "      <td>2</td>\n",
       "      <td>2</td>\n",
       "      <td>For Sale</td>\n",
       "      <td>4.0</td>\n",
       "      <td>10000000</td>\n",
       "    </tr>\n",
       "    <tr>\n",
       "      <th>1</th>\n",
       "      <td>Flat</td>\n",
       "      <td>E-11</td>\n",
       "      <td>Islamabad</td>\n",
       "      <td>3</td>\n",
       "      <td>3</td>\n",
       "      <td>For Sale</td>\n",
       "      <td>5.6</td>\n",
       "      <td>6900000</td>\n",
       "    </tr>\n",
       "    <tr>\n",
       "      <th>2</th>\n",
       "      <td>House</td>\n",
       "      <td>G-15</td>\n",
       "      <td>Islamabad</td>\n",
       "      <td>6</td>\n",
       "      <td>5</td>\n",
       "      <td>For Sale</td>\n",
       "      <td>8.0</td>\n",
       "      <td>16500000</td>\n",
       "    </tr>\n",
       "    <tr>\n",
       "      <th>3</th>\n",
       "      <td>House</td>\n",
       "      <td>Bani Gala</td>\n",
       "      <td>Islamabad</td>\n",
       "      <td>4</td>\n",
       "      <td>4</td>\n",
       "      <td>For Sale</td>\n",
       "      <td>40.0</td>\n",
       "      <td>43500000</td>\n",
       "    </tr>\n",
       "    <tr>\n",
       "      <th>4</th>\n",
       "      <td>House</td>\n",
       "      <td>DHA Defence</td>\n",
       "      <td>Islamabad</td>\n",
       "      <td>3</td>\n",
       "      <td>3</td>\n",
       "      <td>For Sale</td>\n",
       "      <td>8.0</td>\n",
       "      <td>7000000</td>\n",
       "    </tr>\n",
       "  </tbody>\n",
       "</table>\n",
       "</div>"
      ],
      "text/plain": [
       "    type     locality       city  baths  beds   purpose  marla     price\n",
       "0   Flat         G-10  Islamabad      2     2  For Sale    4.0  10000000\n",
       "1   Flat         E-11  Islamabad      3     3  For Sale    5.6   6900000\n",
       "2  House         G-15  Islamabad      6     5  For Sale    8.0  16500000\n",
       "3  House    Bani Gala  Islamabad      4     4  For Sale   40.0  43500000\n",
       "4  House  DHA Defence  Islamabad      3     3  For Sale    8.0   7000000"
      ]
     },
     "execution_count": 12,
     "metadata": {},
     "output_type": "execute_result"
    }
   ],
   "source": [
    "# renaming columns wherever required\n",
    "df = df[['property_type', 'location', 'city', 'baths', 'bedrooms', 'purpose', 'Area_in_Marla', 'price']]\n",
    "\n",
    "df.columns = [\"type\", \"locality\", \"city\", \"baths\", \"beds\", \"purpose\", \"marla\", \"price\"]\n",
    "\n",
    "df.head()"
   ]
  },
  {
   "cell_type": "code",
   "execution_count": 13,
   "id": "3c5c57d4",
   "metadata": {
    "execution": {
     "iopub.execute_input": "2024-04-12T04:05:50.439105Z",
     "iopub.status.busy": "2024-04-12T04:05:50.438784Z",
     "iopub.status.idle": "2024-04-12T04:05:50.461781Z",
     "shell.execute_reply": "2024-04-12T04:05:50.460743Z"
    },
    "papermill": {
     "duration": 0.098152,
     "end_time": "2024-04-12T04:05:50.463837",
     "exception": false,
     "start_time": "2024-04-12T04:05:50.365685",
     "status": "completed"
    },
    "tags": []
   },
   "outputs": [
    {
     "data": {
      "text/html": [
       "<div>\n",
       "<style scoped>\n",
       "    .dataframe tbody tr th:only-of-type {\n",
       "        vertical-align: middle;\n",
       "    }\n",
       "\n",
       "    .dataframe tbody tr th {\n",
       "        vertical-align: top;\n",
       "    }\n",
       "\n",
       "    .dataframe thead th {\n",
       "        text-align: right;\n",
       "    }\n",
       "</style>\n",
       "<table border=\"1\" class=\"dataframe\">\n",
       "  <thead>\n",
       "    <tr style=\"text-align: right;\">\n",
       "      <th></th>\n",
       "      <th>type</th>\n",
       "      <th>locality</th>\n",
       "      <th>city</th>\n",
       "      <th>baths</th>\n",
       "      <th>beds</th>\n",
       "      <th>purpose</th>\n",
       "      <th>area</th>\n",
       "      <th>price</th>\n",
       "    </tr>\n",
       "  </thead>\n",
       "  <tbody>\n",
       "    <tr>\n",
       "      <th>0</th>\n",
       "      <td>Flat</td>\n",
       "      <td>G-10</td>\n",
       "      <td>Islamabad</td>\n",
       "      <td>2</td>\n",
       "      <td>2</td>\n",
       "      <td>For Sale</td>\n",
       "      <td>1089.0</td>\n",
       "      <td>10000000</td>\n",
       "    </tr>\n",
       "    <tr>\n",
       "      <th>1</th>\n",
       "      <td>Flat</td>\n",
       "      <td>E-11</td>\n",
       "      <td>Islamabad</td>\n",
       "      <td>3</td>\n",
       "      <td>3</td>\n",
       "      <td>For Sale</td>\n",
       "      <td>1524.6</td>\n",
       "      <td>6900000</td>\n",
       "    </tr>\n",
       "    <tr>\n",
       "      <th>2</th>\n",
       "      <td>House</td>\n",
       "      <td>G-15</td>\n",
       "      <td>Islamabad</td>\n",
       "      <td>6</td>\n",
       "      <td>5</td>\n",
       "      <td>For Sale</td>\n",
       "      <td>2178.0</td>\n",
       "      <td>16500000</td>\n",
       "    </tr>\n",
       "    <tr>\n",
       "      <th>3</th>\n",
       "      <td>House</td>\n",
       "      <td>Bani Gala</td>\n",
       "      <td>Islamabad</td>\n",
       "      <td>4</td>\n",
       "      <td>4</td>\n",
       "      <td>For Sale</td>\n",
       "      <td>10890.0</td>\n",
       "      <td>43500000</td>\n",
       "    </tr>\n",
       "    <tr>\n",
       "      <th>4</th>\n",
       "      <td>House</td>\n",
       "      <td>DHA Defence</td>\n",
       "      <td>Islamabad</td>\n",
       "      <td>3</td>\n",
       "      <td>3</td>\n",
       "      <td>For Sale</td>\n",
       "      <td>2178.0</td>\n",
       "      <td>7000000</td>\n",
       "    </tr>\n",
       "  </tbody>\n",
       "</table>\n",
       "</div>"
      ],
      "text/plain": [
       "    type     locality       city  baths  beds   purpose     area     price\n",
       "0   Flat         G-10  Islamabad      2     2  For Sale   1089.0  10000000\n",
       "1   Flat         E-11  Islamabad      3     3  For Sale   1524.6   6900000\n",
       "2  House         G-15  Islamabad      6     5  For Sale   2178.0  16500000\n",
       "3  House    Bani Gala  Islamabad      4     4  For Sale  10890.0  43500000\n",
       "4  House  DHA Defence  Islamabad      3     3  For Sale   2178.0   7000000"
      ]
     },
     "execution_count": 13,
     "metadata": {},
     "output_type": "execute_result"
    }
   ],
   "source": [
    "# converting area units from Marla to Square Feet\n",
    "df['area'] = df['marla']*272.25\n",
    "\n",
    "df.drop('marla',axis=1, inplace = True)\n",
    "df = df[[\"type\", \"locality\", \"city\", \"baths\", \"beds\", \"purpose\", \"area\", \"price\"]]\n",
    "\n",
    "df.head()"
   ]
  },
  {
   "cell_type": "markdown",
   "id": "3d5a18b4",
   "metadata": {
    "papermill": {
     "duration": 0.011203,
     "end_time": "2024-04-12T04:05:50.486357",
     "exception": false,
     "start_time": "2024-04-12T04:05:50.475154",
     "status": "completed"
    },
    "tags": []
   },
   "source": [
    "# **Exploratory Data Analysis**\n",
    "\n",
    "---"
   ]
  },
  {
   "cell_type": "code",
   "execution_count": 14,
   "id": "2dd0e80e",
   "metadata": {
    "execution": {
     "iopub.execute_input": "2024-04-12T04:05:50.509748Z",
     "iopub.status.busy": "2024-04-12T04:05:50.509394Z",
     "iopub.status.idle": "2024-04-12T04:05:50.538995Z",
     "shell.execute_reply": "2024-04-12T04:05:50.538006Z"
    },
    "papermill": {
     "duration": 0.043807,
     "end_time": "2024-04-12T04:05:50.541022",
     "exception": false,
     "start_time": "2024-04-12T04:05:50.497215",
     "status": "completed"
    },
    "tags": []
   },
   "outputs": [
    {
     "data": {
      "text/html": [
       "<div>\n",
       "<style scoped>\n",
       "    .dataframe tbody tr th:only-of-type {\n",
       "        vertical-align: middle;\n",
       "    }\n",
       "\n",
       "    .dataframe tbody tr th {\n",
       "        vertical-align: top;\n",
       "    }\n",
       "\n",
       "    .dataframe thead th {\n",
       "        text-align: right;\n",
       "    }\n",
       "</style>\n",
       "<table border=\"1\" class=\"dataframe\">\n",
       "  <thead>\n",
       "    <tr style=\"text-align: right;\">\n",
       "      <th></th>\n",
       "      <th>baths</th>\n",
       "      <th>beds</th>\n",
       "      <th>area</th>\n",
       "      <th>price</th>\n",
       "    </tr>\n",
       "  </thead>\n",
       "  <tbody>\n",
       "    <tr>\n",
       "      <th>count</th>\n",
       "      <td>61641.000000</td>\n",
       "      <td>61641.000000</td>\n",
       "      <td>61641.000000</td>\n",
       "      <td>6.164100e+04</td>\n",
       "    </tr>\n",
       "    <tr>\n",
       "      <th>mean</th>\n",
       "      <td>3.453383</td>\n",
       "      <td>3.334307</td>\n",
       "      <td>2339.151365</td>\n",
       "      <td>9.610426e+06</td>\n",
       "    </tr>\n",
       "    <tr>\n",
       "      <th>std</th>\n",
       "      <td>1.483044</td>\n",
       "      <td>1.303504</td>\n",
       "      <td>2217.494486</td>\n",
       "      <td>1.030790e+07</td>\n",
       "    </tr>\n",
       "    <tr>\n",
       "      <th>min</th>\n",
       "      <td>1.000000</td>\n",
       "      <td>0.000000</td>\n",
       "      <td>0.000000</td>\n",
       "      <td>1.550000e+04</td>\n",
       "    </tr>\n",
       "    <tr>\n",
       "      <th>25%</th>\n",
       "      <td>2.000000</td>\n",
       "      <td>2.000000</td>\n",
       "      <td>1197.900000</td>\n",
       "      <td>1.350000e+05</td>\n",
       "    </tr>\n",
       "    <tr>\n",
       "      <th>50%</th>\n",
       "      <td>3.000000</td>\n",
       "      <td>3.000000</td>\n",
       "      <td>1633.500000</td>\n",
       "      <td>6.600000e+06</td>\n",
       "    </tr>\n",
       "    <tr>\n",
       "      <th>75%</th>\n",
       "      <td>4.000000</td>\n",
       "      <td>4.000000</td>\n",
       "      <td>2722.500000</td>\n",
       "      <td>1.480000e+07</td>\n",
       "    </tr>\n",
       "    <tr>\n",
       "      <th>max</th>\n",
       "      <td>7.000000</td>\n",
       "      <td>6.000000</td>\n",
       "      <td>52816.500000</td>\n",
       "      <td>4.490000e+07</td>\n",
       "    </tr>\n",
       "  </tbody>\n",
       "</table>\n",
       "</div>"
      ],
      "text/plain": [
       "              baths          beds          area         price\n",
       "count  61641.000000  61641.000000  61641.000000  6.164100e+04\n",
       "mean       3.453383      3.334307   2339.151365  9.610426e+06\n",
       "std        1.483044      1.303504   2217.494486  1.030790e+07\n",
       "min        1.000000      0.000000      0.000000  1.550000e+04\n",
       "25%        2.000000      2.000000   1197.900000  1.350000e+05\n",
       "50%        3.000000      3.000000   1633.500000  6.600000e+06\n",
       "75%        4.000000      4.000000   2722.500000  1.480000e+07\n",
       "max        7.000000      6.000000  52816.500000  4.490000e+07"
      ]
     },
     "execution_count": 14,
     "metadata": {},
     "output_type": "execute_result"
    }
   ],
   "source": [
    "# statistical overview\n",
    "df.describe()"
   ]
  },
  {
   "cell_type": "markdown",
   "id": "291c6dd4",
   "metadata": {
    "papermill": {
     "duration": 0.010875,
     "end_time": "2024-04-12T04:05:50.563322",
     "exception": false,
     "start_time": "2024-04-12T04:05:50.552447",
     "status": "completed"
    },
    "tags": []
   },
   "source": [
    "- ### *Average price of properties in the dataset*"
   ]
  },
  {
   "cell_type": "code",
   "execution_count": 15,
   "id": "e80cbe63",
   "metadata": {
    "execution": {
     "iopub.execute_input": "2024-04-12T04:05:50.587341Z",
     "iopub.status.busy": "2024-04-12T04:05:50.586964Z",
     "iopub.status.idle": "2024-04-12T04:05:50.593078Z",
     "shell.execute_reply": "2024-04-12T04:05:50.591625Z"
    },
    "papermill": {
     "duration": 0.020656,
     "end_time": "2024-04-12T04:05:50.595027",
     "exception": false,
     "start_time": "2024-04-12T04:05:50.574371",
     "status": "completed"
    },
    "tags": []
   },
   "outputs": [
    {
     "name": "stdout",
     "output_type": "stream",
     "text": [
      "The average price of all the listings is: 9610425.5.\n"
     ]
    }
   ],
   "source": [
    "avg_price = df['price'].mean().round(2)\n",
    "print(f\"The average price of all the listings is: {avg_price}.\")"
   ]
  },
  {
   "cell_type": "markdown",
   "id": "c9b6c4ea",
   "metadata": {
    "papermill": {
     "duration": 0.010993,
     "end_time": "2024-04-12T04:05:50.617208",
     "exception": false,
     "start_time": "2024-04-12T04:05:50.606215",
     "status": "completed"
    },
    "tags": []
   },
   "source": [
    "- ### ***Distribution of property types***"
   ]
  },
  {
   "cell_type": "code",
   "execution_count": 16,
   "id": "16023bb0",
   "metadata": {
    "execution": {
     "iopub.execute_input": "2024-04-12T04:05:50.641905Z",
     "iopub.status.busy": "2024-04-12T04:05:50.641486Z",
     "iopub.status.idle": "2024-04-12T04:05:50.918106Z",
     "shell.execute_reply": "2024-04-12T04:05:50.917254Z"
    },
    "papermill": {
     "duration": 0.291219,
     "end_time": "2024-04-12T04:05:50.920008",
     "exception": false,
     "start_time": "2024-04-12T04:05:50.628789",
     "status": "completed"
    },
    "tags": []
   },
   "outputs": [
    {
     "data": {
      "image/png": "[encoded data removed]",
      "text/plain": [
       "<Figure size 1000x500 with 1 Axes>"
      ]
     },
     "metadata": {},
     "output_type": "display_data"
    }
   ],
   "source": [
    "# count plot for the different types of properties\n",
    "plt.figure(figsize=(10,5))\n",
    "sns.countplot(x=df['type'])\n",
    "\n",
    "plt.title('Distribution of Property Types', fontweight = 'bold')\n",
    "plt.xlabel('Property Type', fontweight = 'bold')\n",
    "plt.ylabel('Total Listings', fontweight = 'bold')\n",
    "plt.show()"
   ]
  },
  {
   "cell_type": "markdown",
   "id": "f969d773",
   "metadata": {
    "papermill": {
     "duration": 0.011154,
     "end_time": "2024-04-12T04:05:50.942826",
     "exception": false,
     "start_time": "2024-04-12T04:05:50.931672",
     "status": "completed"
    },
    "tags": []
   },
   "source": [
    "- ### ***Number of properties listed for sale in cities***"
   ]
  },
  {
   "cell_type": "code",
   "execution_count": 17,
   "id": "1b268627",
   "metadata": {
    "execution": {
     "iopub.execute_input": "2024-04-12T04:05:50.968517Z",
     "iopub.status.busy": "2024-04-12T04:05:50.968132Z",
     "iopub.status.idle": "2024-04-12T04:05:51.180436Z",
     "shell.execute_reply": "2024-04-12T04:05:51.179586Z"
    },
    "papermill": {
     "duration": 0.228095,
     "end_time": "2024-04-12T04:05:51.182491",
     "exception": false,
     "start_time": "2024-04-12T04:05:50.954396",
     "status": "completed"
    },
    "tags": []
   },
   "outputs": [
    {
     "data": {
      "image/png": "[encoded data removed]",
      "text/plain": [
       "<Figure size 1000x500 with 1 Axes>"
      ]
     },
     "metadata": {},
     "output_type": "display_data"
    }
   ],
   "source": [
    "# count plot for the different types of properties\n",
    "plt.figure(figsize=(10,5))\n",
    "sns.countplot(x=df['city'])\n",
    "\n",
    "plt.title('Distribution of Property with Cities', fontweight = 'bold')\n",
    "plt.xlabel('Cities', fontweight = 'bold')\n",
    "plt.ylabel('Total Listings', fontweight = 'bold')\n",
    "plt.show()"
   ]
  },
  {
   "cell_type": "markdown",
   "id": "2397848d",
   "metadata": {
    "papermill": {
     "duration": 0.01107,
     "end_time": "2024-04-12T04:05:51.205192",
     "exception": false,
     "start_time": "2024-04-12T04:05:51.194122",
     "status": "completed"
    },
    "tags": []
   },
   "source": [
    "- ### ***Determining which locations have the highest and lowest average property prices***"
   ]
  },
  {
   "cell_type": "code",
   "execution_count": 18,
   "id": "9e306a94",
   "metadata": {
    "execution": {
     "iopub.execute_input": "2024-04-12T04:05:51.230226Z",
     "iopub.status.busy": "2024-04-12T04:05:51.229656Z",
     "iopub.status.idle": "2024-04-12T04:05:56.370116Z",
     "shell.execute_reply": "2024-04-12T04:05:56.368871Z"
    },
    "papermill": {
     "duration": 5.155956,
     "end_time": "2024-04-12T04:05:56.37263",
     "exception": false,
     "start_time": "2024-04-12T04:05:51.216674",
     "status": "completed"
    },
    "tags": []
   },
   "outputs": [],
   "source": [
    "local = {}  # Empty dictionary to hold locality with their average pricings\n",
    "locality_name = []  # List to hold locality names with max and min average prices\n",
    "locality_avg_price = []  # List to hold max and min average prices\n",
    "\n",
    "# Getting unique localities from the 'locality' column\n",
    "localities = df['locality'].unique()\n",
    "\n",
    "# Determining average prices of localities\n",
    "for locality in localities:\n",
    "    local[locality] = df.loc[df['locality'] == locality, 'price'].mean().round(2)\n",
    "\n",
    "# Cheapest locality\n",
    "cheapest_locality = min(local, key=local.get)\n",
    "locality_name.append(cheapest_locality)\n",
    "locality_avg_price.append(local[cheapest_locality])\n",
    "\n",
    "# Costliest locality\n",
    "costliest_locality = max(local, key=local.get)\n",
    "locality_name.append(costliest_locality)\n",
    "locality_avg_price.append(local[costliest_locality])"
   ]
  },
  {
   "cell_type": "code",
   "execution_count": 19,
   "id": "d7ffec42",
   "metadata": {
    "execution": {
     "iopub.execute_input": "2024-04-12T04:05:56.397632Z",
     "iopub.status.busy": "2024-04-12T04:05:56.397241Z",
     "iopub.status.idle": "2024-04-12T04:05:56.586769Z",
     "shell.execute_reply": "2024-04-12T04:05:56.585441Z"
    },
    "papermill": {
     "duration": 0.204809,
     "end_time": "2024-04-12T04:05:56.589092",
     "exception": false,
     "start_time": "2024-04-12T04:05:56.384283",
     "status": "completed"
    },
    "tags": []
   },
   "outputs": [
    {
     "data": {
      "image/png": "[encoded data removed]",
      "text/plain": [
       "<Figure size 640x480 with 1 Axes>"
      ]
     },
     "metadata": {},
     "output_type": "display_data"
    }
   ],
   "source": [
    "# Plotting this data\n",
    "sns.barplot(x=locality_name, y=locality_avg_price)\n",
    "plt.title('Average Prices in Localities', fontweight = 'bold')\n",
    "plt.xlabel('Locality', fontweight = 'bold')\n",
    "plt.ylabel('Average Price', fontweight = 'bold')\n",
    "plt.show()"
   ]
  },
  {
   "cell_type": "markdown",
   "id": "45a7596f",
   "metadata": {
    "papermill": {
     "duration": 0.011549,
     "end_time": "2024-04-12T04:05:56.612695",
     "exception": false,
     "start_time": "2024-04-12T04:05:56.601146",
     "status": "completed"
    },
    "tags": []
   },
   "source": [
    "##   - ***Determining the most popular locality based on the number of listings***"
   ]
  },
  {
   "cell_type": "code",
   "execution_count": 20,
   "id": "18f90d5e",
   "metadata": {
    "execution": {
     "iopub.execute_input": "2024-04-12T04:05:56.638551Z",
     "iopub.status.busy": "2024-04-12T04:05:56.637639Z",
     "iopub.status.idle": "2024-04-12T04:05:56.842304Z",
     "shell.execute_reply": "2024-04-12T04:05:56.841606Z"
    },
    "papermill": {
     "duration": 0.219519,
     "end_time": "2024-04-12T04:05:56.844073",
     "exception": false,
     "start_time": "2024-04-12T04:05:56.624554",
     "status": "completed"
    },
    "tags": []
   },
   "outputs": [
    {
     "data": {
      "image/png": "[encoded data removed]",
      "text/plain": [
       "<Figure size 1000x500 with 1 Axes>"
      ]
     },
     "metadata": {},
     "output_type": "display_data"
    }
   ],
   "source": [
    "df_karachi = df[df['city'] == 'Karachi']\n",
    "\n",
    "# Get the top 5 localities based on counts\n",
    "top_localities = df_karachi['locality'].value_counts().nlargest(5).index\n",
    "\n",
    "# Filter the DataFrame for only the top 5 localities\n",
    "df_top_localities = df_karachi[df_karachi['locality'].isin(top_localities)]\n",
    "\n",
    "# Plot the countplot\n",
    "plt.figure(figsize=(10, 5))\n",
    "sns.countplot(x='locality', data=df_top_localities, order=top_localities)\n",
    "\n",
    "plt.title('Top 5 Localities in Karachi', fontweight = 'bold')\n",
    "plt.xlabel('Localities', fontweight = 'bold')\n",
    "plt.ylabel('Total Listings', fontweight = 'bold')\n",
    "plt.show()"
   ]
  },
  {
   "cell_type": "markdown",
   "id": "fb6b2a9c",
   "metadata": {
    "papermill": {
     "duration": 0.012827,
     "end_time": "2024-04-12T04:05:56.868909",
     "exception": false,
     "start_time": "2024-04-12T04:05:56.856082",
     "status": "completed"
    },
    "tags": []
   },
   "source": [
    "- ### ***Avg No. of bedrooms and Bathrooms listed***"
   ]
  },
  {
   "cell_type": "code",
   "execution_count": 21,
   "id": "b2cba17f",
   "metadata": {
    "execution": {
     "iopub.execute_input": "2024-04-12T04:05:56.895984Z",
     "iopub.status.busy": "2024-04-12T04:05:56.894941Z",
     "iopub.status.idle": "2024-04-12T04:05:56.902807Z",
     "shell.execute_reply": "2024-04-12T04:05:56.901515Z"
    },
    "papermill": {
     "duration": 0.023919,
     "end_time": "2024-04-12T04:05:56.905167",
     "exception": false,
     "start_time": "2024-04-12T04:05:56.881248",
     "status": "completed"
    },
    "tags": []
   },
   "outputs": [
    {
     "name": "stdout",
     "output_type": "stream",
     "text": [
      "The average no. of bedrooms in the dataset is: 3.\n",
      "The average no. of bathrooms in the dataset is: 3.\n"
     ]
    }
   ],
   "source": [
    "avg_beds = df['beds'].mean().astype(int)\n",
    "avg_baths = df['baths'].mean().astype(int)\n",
    "\n",
    "print(f\"The average no. of bedrooms in the dataset is: {avg_beds}.\")\n",
    "print(f\"The average no. of bathrooms in the dataset is: {avg_baths}.\")"
   ]
  },
  {
   "cell_type": "markdown",
   "id": "8f4987e8",
   "metadata": {
    "papermill": {
     "duration": 0.011909,
     "end_time": "2024-04-12T04:05:56.929593",
     "exception": false,
     "start_time": "2024-04-12T04:05:56.917684",
     "status": "completed"
    },
    "tags": []
   },
   "source": [
    "- ### ***Property size variation across cities***"
   ]
  },
  {
   "cell_type": "code",
   "execution_count": 22,
   "id": "77b185c5",
   "metadata": {
    "execution": {
     "iopub.execute_input": "2024-04-12T04:05:56.95673Z",
     "iopub.status.busy": "2024-04-12T04:05:56.955635Z",
     "iopub.status.idle": "2024-04-12T04:05:57.238828Z",
     "shell.execute_reply": "2024-04-12T04:05:57.238127Z"
    },
    "papermill": {
     "duration": 0.29876,
     "end_time": "2024-04-12T04:05:57.240636",
     "exception": false,
     "start_time": "2024-04-12T04:05:56.941876",
     "status": "completed"
    },
    "tags": []
   },
   "outputs": [
    {
     "data": {
      "image/png": "[encoded data removed]",
      "text/plain": [
       "<Figure size 1000x600 with 1 Axes>"
      ]
     },
     "metadata": {},
     "output_type": "display_data"
    }
   ],
   "source": [
    "# Calculate average property area (marla) per city\n",
    "avg_area_per_city = df.groupby('city')['area'].mean().sort_values()\n",
    "\n",
    "# Plotting the graph\n",
    "plt.figure(figsize=(10, 6))\n",
    "avg_area_per_city.plot(kind='bar', color='skyblue')\n",
    "plt.title('Average Property Area per City')\n",
    "plt.xlabel('City')\n",
    "plt.ylabel('Average Property Area')\n",
    "plt.xticks(rotation=0)\n",
    "plt.ylim(1500,)\n",
    "\n",
    "# Display the plot\n",
    "plt.tight_layout()\n",
    "plt.show()"
   ]
  },
  {
   "cell_type": "markdown",
   "id": "2203db8b",
   "metadata": {
    "papermill": {
     "duration": 0.011874,
     "end_time": "2024-04-12T04:05:57.264933",
     "exception": false,
     "start_time": "2024-04-12T04:05:57.253059",
     "status": "completed"
    },
    "tags": []
   },
   "source": [
    "# **Machine Learning**\n",
    "---"
   ]
  },
  {
   "cell_type": "markdown",
   "id": "1bdbc466",
   "metadata": {
    "papermill": {
     "duration": 0.011822,
     "end_time": "2024-04-12T04:05:57.288682",
     "exception": false,
     "start_time": "2024-04-12T04:05:57.27686",
     "status": "completed"
    },
    "tags": []
   },
   "source": [
    "- One hot Encoding"
   ]
  },
  {
   "cell_type": "code",
   "execution_count": 23,
   "id": "7f1dd8c5",
   "metadata": {
    "execution": {
     "iopub.execute_input": "2024-04-12T04:05:57.316836Z",
     "iopub.status.busy": "2024-04-12T04:05:57.31641Z",
     "iopub.status.idle": "2024-04-12T04:05:57.968074Z",
     "shell.execute_reply": "2024-04-12T04:05:57.9672Z"
    },
    "papermill": {
     "duration": 0.668407,
     "end_time": "2024-04-12T04:05:57.970432",
     "exception": false,
     "start_time": "2024-04-12T04:05:57.302025",
     "status": "completed"
    },
    "tags": []
   },
   "outputs": [],
   "source": [
    "df = pd.get_dummies(df, columns=['type', 'city', 'locality', 'purpose'], prefix='', prefix_sep='')\n",
    "df = df.astype(int)"
   ]
  },
  {
   "cell_type": "code",
   "execution_count": 24,
   "id": "477fbd98",
   "metadata": {
    "execution": {
     "iopub.execute_input": "2024-04-12T04:05:57.998023Z",
     "iopub.status.busy": "2024-04-12T04:05:57.997659Z",
     "iopub.status.idle": "2024-04-12T04:05:58.014466Z",
     "shell.execute_reply": "2024-04-12T04:05:58.013605Z"
    },
    "papermill": {
     "duration": 0.032877,
     "end_time": "2024-04-12T04:05:58.016358",
     "exception": false,
     "start_time": "2024-04-12T04:05:57.983481",
     "status": "completed"
    },
    "tags": []
   },
   "outputs": [
    {
     "data": {
      "text/html": [
       "<div>\n",
       "<style scoped>\n",
       "    .dataframe tbody tr th:only-of-type {\n",
       "        vertical-align: middle;\n",
       "    }\n",
       "\n",
       "    .dataframe tbody tr th {\n",
       "        vertical-align: top;\n",
       "    }\n",
       "\n",
       "    .dataframe thead th {\n",
       "        text-align: right;\n",
       "    }\n",
       "</style>\n",
       "<table border=\"1\" class=\"dataframe\">\n",
       "  <thead>\n",
       "    <tr style=\"text-align: right;\">\n",
       "      <th></th>\n",
       "      <th>baths</th>\n",
       "      <th>beds</th>\n",
       "      <th>area</th>\n",
       "      <th>price</th>\n",
       "      <th>Farm House</th>\n",
       "      <th>Flat</th>\n",
       "      <th>House</th>\n",
       "      <th>Lower Portion</th>\n",
       "      <th>Penthouse</th>\n",
       "      <th>Room</th>\n",
       "      <th>...</th>\n",
       "      <th>Zeeshan Colony</th>\n",
       "      <th>Zero Point</th>\n",
       "      <th>Zia Colony</th>\n",
       "      <th>Zone 5</th>\n",
       "      <th>Zubaida Park</th>\n",
       "      <th>Zubair Colony</th>\n",
       "      <th>Zulfiqar Colony</th>\n",
       "      <th>circular road</th>\n",
       "      <th>For Rent</th>\n",
       "      <th>For Sale</th>\n",
       "    </tr>\n",
       "  </thead>\n",
       "  <tbody>\n",
       "    <tr>\n",
       "      <th>0</th>\n",
       "      <td>2</td>\n",
       "      <td>2</td>\n",
       "      <td>1089</td>\n",
       "      <td>10000000</td>\n",
       "      <td>0</td>\n",
       "      <td>1</td>\n",
       "      <td>0</td>\n",
       "      <td>0</td>\n",
       "      <td>0</td>\n",
       "      <td>0</td>\n",
       "      <td>...</td>\n",
       "      <td>0</td>\n",
       "      <td>0</td>\n",
       "      <td>0</td>\n",
       "      <td>0</td>\n",
       "      <td>0</td>\n",
       "      <td>0</td>\n",
       "      <td>0</td>\n",
       "      <td>0</td>\n",
       "      <td>0</td>\n",
       "      <td>1</td>\n",
       "    </tr>\n",
       "    <tr>\n",
       "      <th>1</th>\n",
       "      <td>3</td>\n",
       "      <td>3</td>\n",
       "      <td>1524</td>\n",
       "      <td>6900000</td>\n",
       "      <td>0</td>\n",
       "      <td>1</td>\n",
       "      <td>0</td>\n",
       "      <td>0</td>\n",
       "      <td>0</td>\n",
       "      <td>0</td>\n",
       "      <td>...</td>\n",
       "      <td>0</td>\n",
       "      <td>0</td>\n",
       "      <td>0</td>\n",
       "      <td>0</td>\n",
       "      <td>0</td>\n",
       "      <td>0</td>\n",
       "      <td>0</td>\n",
       "      <td>0</td>\n",
       "      <td>0</td>\n",
       "      <td>1</td>\n",
       "    </tr>\n",
       "    <tr>\n",
       "      <th>2</th>\n",
       "      <td>6</td>\n",
       "      <td>5</td>\n",
       "      <td>2178</td>\n",
       "      <td>16500000</td>\n",
       "      <td>0</td>\n",
       "      <td>0</td>\n",
       "      <td>1</td>\n",
       "      <td>0</td>\n",
       "      <td>0</td>\n",
       "      <td>0</td>\n",
       "      <td>...</td>\n",
       "      <td>0</td>\n",
       "      <td>0</td>\n",
       "      <td>0</td>\n",
       "      <td>0</td>\n",
       "      <td>0</td>\n",
       "      <td>0</td>\n",
       "      <td>0</td>\n",
       "      <td>0</td>\n",
       "      <td>0</td>\n",
       "      <td>1</td>\n",
       "    </tr>\n",
       "    <tr>\n",
       "      <th>3</th>\n",
       "      <td>4</td>\n",
       "      <td>4</td>\n",
       "      <td>10890</td>\n",
       "      <td>43500000</td>\n",
       "      <td>0</td>\n",
       "      <td>0</td>\n",
       "      <td>1</td>\n",
       "      <td>0</td>\n",
       "      <td>0</td>\n",
       "      <td>0</td>\n",
       "      <td>...</td>\n",
       "      <td>0</td>\n",
       "      <td>0</td>\n",
       "      <td>0</td>\n",
       "      <td>0</td>\n",
       "      <td>0</td>\n",
       "      <td>0</td>\n",
       "      <td>0</td>\n",
       "      <td>0</td>\n",
       "      <td>0</td>\n",
       "      <td>1</td>\n",
       "    </tr>\n",
       "    <tr>\n",
       "      <th>4</th>\n",
       "      <td>3</td>\n",
       "      <td>3</td>\n",
       "      <td>2178</td>\n",
       "      <td>7000000</td>\n",
       "      <td>0</td>\n",
       "      <td>0</td>\n",
       "      <td>1</td>\n",
       "      <td>0</td>\n",
       "      <td>0</td>\n",
       "      <td>0</td>\n",
       "      <td>...</td>\n",
       "      <td>0</td>\n",
       "      <td>0</td>\n",
       "      <td>0</td>\n",
       "      <td>0</td>\n",
       "      <td>0</td>\n",
       "      <td>0</td>\n",
       "      <td>0</td>\n",
       "      <td>0</td>\n",
       "      <td>0</td>\n",
       "      <td>1</td>\n",
       "    </tr>\n",
       "  </tbody>\n",
       "</table>\n",
       "<p>5 rows × 1407 columns</p>\n",
       "</div>"
      ],
      "text/plain": [
       "   baths  beds   area     price  Farm House  Flat  House  Lower Portion  \\\n",
       "0      2     2   1089  10000000           0     1      0              0   \n",
       "1      3     3   1524   6900000           0     1      0              0   \n",
       "2      6     5   2178  16500000           0     0      1              0   \n",
       "3      4     4  10890  43500000           0     0      1              0   \n",
       "4      3     3   2178   7000000           0     0      1              0   \n",
       "\n",
       "   Penthouse  Room  ...  Zeeshan Colony  Zero Point  Zia Colony  Zone 5  \\\n",
       "0          0     0  ...               0           0           0       0   \n",
       "1          0     0  ...               0           0           0       0   \n",
       "2          0     0  ...               0           0           0       0   \n",
       "3          0     0  ...               0           0           0       0   \n",
       "4          0     0  ...               0           0           0       0   \n",
       "\n",
       "   Zubaida Park  Zubair Colony  Zulfiqar Colony  circular road  For Rent  \\\n",
       "0             0              0                0              0         0   \n",
       "1             0              0                0              0         0   \n",
       "2             0              0                0              0         0   \n",
       "3             0              0                0              0         0   \n",
       "4             0              0                0              0         0   \n",
       "\n",
       "   For Sale  \n",
       "0         1  \n",
       "1         1  \n",
       "2         1  \n",
       "3         1  \n",
       "4         1  \n",
       "\n",
       "[5 rows x 1407 columns]"
      ]
     },
     "execution_count": 24,
     "metadata": {},
     "output_type": "execute_result"
    }
   ],
   "source": [
    "df.head()"
   ]
  },
  {
   "cell_type": "code",
   "execution_count": 25,
   "id": "f337c7d1",
   "metadata": {
    "execution": {
     "iopub.execute_input": "2024-04-12T04:05:58.044345Z",
     "iopub.status.busy": "2024-04-12T04:05:58.043766Z",
     "iopub.status.idle": "2024-04-12T04:05:58.681066Z",
     "shell.execute_reply": "2024-04-12T04:05:58.680029Z"
    },
    "papermill": {
     "duration": 0.65409,
     "end_time": "2024-04-12T04:05:58.683494",
     "exception": false,
     "start_time": "2024-04-12T04:05:58.029404",
     "status": "completed"
    },
    "tags": []
   },
   "outputs": [],
   "source": [
    "X = df.drop('price', axis = 1)\n",
    "y = df['price']\n",
    "\n",
    "X_train, X_test, y_train, y_test = train_test_split(X, y, test_size = 0.2, random_state = 42)"
   ]
  },
  {
   "cell_type": "code",
   "execution_count": 26,
   "id": "53931596",
   "metadata": {
    "execution": {
     "iopub.execute_input": "2024-04-12T04:05:58.71248Z",
     "iopub.status.busy": "2024-04-12T04:05:58.712115Z",
     "iopub.status.idle": "2024-04-12T04:05:59.732564Z",
     "shell.execute_reply": "2024-04-12T04:05:59.731321Z"
    },
    "papermill": {
     "duration": 1.03849,
     "end_time": "2024-04-12T04:05:59.735262",
     "exception": false,
     "start_time": "2024-04-12T04:05:58.696772",
     "status": "completed"
    },
    "tags": []
   },
   "outputs": [],
   "source": [
    "# Normalize features using StandardScaler\n",
    "scaler = StandardScaler()\n",
    "X_train_normalized = scaler.fit_transform(X_train)\n",
    "X_test_normalized = scaler.transform(X_test)"
   ]
  },
  {
   "cell_type": "markdown",
   "id": "0f75b8c6",
   "metadata": {
    "papermill": {
     "duration": 0.01291,
     "end_time": "2024-04-12T04:05:59.761483",
     "exception": false,
     "start_time": "2024-04-12T04:05:59.748573",
     "status": "completed"
    },
    "tags": []
   },
   "source": [
    "### **Linear Regressions**"
   ]
  },
  {
   "cell_type": "code",
   "execution_count": 27,
   "id": "07802af9",
   "metadata": {
    "execution": {
     "iopub.execute_input": "2024-04-12T04:05:59.789301Z",
     "iopub.status.busy": "2024-04-12T04:05:59.78894Z",
     "iopub.status.idle": "2024-04-12T04:06:05.627311Z",
     "shell.execute_reply": "2024-04-12T04:06:05.625509Z"
    },
    "papermill": {
     "duration": 5.854822,
     "end_time": "2024-04-12T04:06:05.629395",
     "exception": false,
     "start_time": "2024-04-12T04:05:59.774573",
     "status": "completed"
    },
    "tags": []
   },
   "outputs": [
    {
     "name": "stdout",
     "output_type": "stream",
     "text": [
      "| ---------------------- |\n",
      "| Linear Regression:     |\n",
      "| RMSE: 9447051146648.55           |\n",
      "| R-squared: -855037109453.7815      |\n",
      "| ---------------------- |\n"
     ]
    }
   ],
   "source": [
    "# Initialize the linear regression model\n",
    "linear_model = LinearRegression()\n",
    "\n",
    "# Fit the model to the training data\n",
    "linear_model.fit(X_train, y_train)\n",
    "\n",
    "# Predicting on the test set\n",
    "y_pred = linear_model.predict(X_test)\n",
    "\n",
    "# Evaluation\n",
    "mse_lr = mean_squared_error(y_test, y_pred)\n",
    "r2_lr = r2_score(y_test, y_pred)\n",
    "\n",
    "print(\"| ---------------------- |\")\n",
    "print(\"| Linear Regression:     |\")\n",
    "print(\"| RMSE:\", round(np.sqrt(mse_lr),2), '          |')\n",
    "print(\"| R-squared:\", round(r2_lr,4), '     |')\n",
    "print(\"| ---------------------- |\")"
   ]
  },
  {
   "cell_type": "markdown",
   "id": "bb97ea73",
   "metadata": {
    "papermill": {
     "duration": 0.017225,
     "end_time": "2024-04-12T04:06:05.664843",
     "exception": false,
     "start_time": "2024-04-12T04:06:05.647618",
     "status": "completed"
    },
    "tags": []
   },
   "source": [
    "### **Ridge Regression**"
   ]
  },
  {
   "cell_type": "code",
   "execution_count": 28,
   "id": "bfd00dc5",
   "metadata": {
    "execution": {
     "iopub.execute_input": "2024-04-12T04:06:05.701157Z",
     "iopub.status.busy": "2024-04-12T04:06:05.700789Z",
     "iopub.status.idle": "2024-04-12T04:06:07.554661Z",
     "shell.execute_reply": "2024-04-12T04:06:07.55382Z"
    },
    "papermill": {
     "duration": 1.873898,
     "end_time": "2024-04-12T04:06:07.556703",
     "exception": false,
     "start_time": "2024-04-12T04:06:05.682805",
     "status": "completed"
    },
    "tags": []
   },
   "outputs": [
    {
     "name": "stdout",
     "output_type": "stream",
     "text": [
      "| ---------------------- |\n",
      "| Ridge Regression:      |\n",
      "| RMSE: 6003779.74           |\n",
      "| R-squared: 0.6547      |\n",
      "| ---------------------- |\n"
     ]
    }
   ],
   "source": [
    "ridge_model = Ridge(alpha=1.0)\n",
    "ridge_model.fit(X_train, y_train)\n",
    "y_pred_ridge = ridge_model.predict(X_test)\n",
    "\n",
    "mse_ridge = mean_squared_error(y_test, y_pred_ridge)\n",
    "r2_ridge = r2_score(y_test, y_pred_ridge)\n",
    "\n",
    "print(\"| ---------------------- |\")\n",
    "print(\"| Ridge Regression:      |\")\n",
    "print(\"| RMSE:\", round(np.sqrt(mse_ridge),2), '          |')\n",
    "print(\"| R-squared:\", round(r2_ridge,4), '     |')\n",
    "print(\"| ---------------------- |\")"
   ]
  },
  {
   "cell_type": "markdown",
   "id": "7d113d49",
   "metadata": {
    "papermill": {
     "duration": 0.016989,
     "end_time": "2024-04-12T04:06:07.59074",
     "exception": false,
     "start_time": "2024-04-12T04:06:07.573751",
     "status": "completed"
    },
    "tags": []
   },
   "source": [
    "### **Lasso Regression**"
   ]
  },
  {
   "cell_type": "code",
   "execution_count": null,
   "id": "8224fb0b",
   "metadata": {
    "execution": {
     "iopub.execute_input": "2024-04-12T04:06:07.62641Z",
     "iopub.status.busy": "2024-04-12T04:06:07.626058Z",
     "iopub.status.idle": "2024-04-12T04:06:54.20629Z",
     "shell.execute_reply": "2024-04-12T04:06:54.20541Z"
    },
    "papermill": {
     "duration": 46.6172,
     "end_time": "2024-04-12T04:06:54.224945",
     "exception": false,
     "start_time": "2024-04-12T04:06:07.607745",
     "status": "completed"
    },
    "tags": []
   },
   "outputs": [],
   "source": [
    "lasso_model = Lasso(alpha = 0.001)\n",
    "lasso_model.fit(X_train, y_train)\n",
    "y_pred_lasso = lasso_model.predict(X_test)\n",
    "\n",
    "mse_lasso = mean_squared_error(y_test, y_pred_lasso)\n",
    "r2_lasso = r2_score(y_test, y_pred_lasso)\n",
    "\n",
    "print(\"| ---------------------- |\")\n",
    "print(\"| Lasso Regression:      |\")\n",
    "print(\"| RMSE:\", round(np.sqrt(mse_lasso),2), '          |')\n",
    "print(\"| R-squared:\", round(r2_lasso,4), '     |')\n",
    "print(\"| ---------------------- |\")"
   ]
  },
  {
   "cell_type": "markdown",
   "id": "e465947c",
   "metadata": {
    "papermill": {
     "duration": 0.016945,
     "end_time": "2024-04-12T04:06:54.258802",
     "exception": false,
     "start_time": "2024-04-12T04:06:54.241857",
     "status": "completed"
    },
    "tags": []
   },
   "source": [
    "### **Elastic Net Regression**"
   ]
  },
  {
   "cell_type": "code",
   "execution_count": null,
   "id": "c4bc41d1",
   "metadata": {
    "execution": {
     "iopub.execute_input": "2024-04-12T04:06:54.294662Z",
     "iopub.status.busy": "2024-04-12T04:06:54.294267Z",
     "iopub.status.idle": "2024-04-12T04:06:55.863294Z",
     "shell.execute_reply": "2024-04-12T04:06:55.862364Z"
    },
    "papermill": {
     "duration": 1.589085,
     "end_time": "2024-04-12T04:06:55.865335",
     "exception": false,
     "start_time": "2024-04-12T04:06:54.27625",
     "status": "completed"
    },
    "tags": []
   },
   "outputs": [],
   "source": [
    "elasticnet_model = ElasticNet(alpha=1.0, l1_ratio=0.5)  # You can adjust alpha and l1_ratio as needed\n",
    "elasticnet_model.fit(X_train, y_train)\n",
    "y_pred_elasticnet = elasticnet_model.predict(X_test)\n",
    "\n",
    "mse_elasticnet = mean_squared_error(y_test, y_pred_elasticnet)\n",
    "r2_elasticnet = r2_score(y_test, y_pred_elasticnet)\n",
    "\n",
    "print(\"| ---------------------- |\")\n",
    "print(\"| Elastic Net Regression:|\")\n",
    "print(\"| RMSE:\", round(np.sqrt(mse_elasticnet),2), '          |')\n",
    "print(\"| R-squared:\", round(r2_elasticnet,4), '     |')\n",
    "print(\"| ---------------------- |\")"
   ]
  },
  {
   "cell_type": "markdown",
   "id": "699e065f",
   "metadata": {
    "papermill": {
     "duration": 0.016433,
     "end_time": "2024-04-12T04:06:55.898406",
     "exception": false,
     "start_time": "2024-04-12T04:06:55.881973",
     "status": "completed"
    },
    "tags": []
   },
   "source": [
    "### **Decision Tree Regressor**"
   ]
  },
  {
   "cell_type": "code",
   "execution_count": null,
   "id": "111a4c19",
   "metadata": {
    "execution": {
     "iopub.execute_input": "2024-04-12T04:06:55.933867Z",
     "iopub.status.busy": "2024-04-12T04:06:55.933505Z",
     "iopub.status.idle": "2024-04-12T04:06:59.55218Z",
     "shell.execute_reply": "2024-04-12T04:06:59.55135Z"
    },
    "papermill": {
     "duration": 3.638675,
     "end_time": "2024-04-12T04:06:59.553978",
     "exception": false,
     "start_time": "2024-04-12T04:06:55.915303",
     "status": "completed"
    },
    "tags": []
   },
   "outputs": [],
   "source": [
    "dt_model = DecisionTreeRegressor(max_depth=None, random_state=42)  # You can adjust max_depth as needed\n",
    "dt_model.fit(X_train, y_train)\n",
    "y_pred_dt = dt_model.predict(X_test)\n",
    "\n",
    "mse_dt = mean_squared_error(y_test, y_pred_dt)\n",
    "r2_dt = r2_score(y_test, y_pred_dt)\n",
    "\n",
    "print(\"| ------------------------- |\")\n",
    "print(\"| Decision Tree Regression: |\")\n",
    "print(\"| RMSE:\", round(np.sqrt(mse_dt),2), '             |')\n",
    "print(\"| R-squared:\", round(r2_dt,4), '        |')\n",
    "print(\"| ------------------------- |\")"
   ]
  },
  {
   "cell_type": "markdown",
   "id": "1de8ca44",
   "metadata": {
    "papermill": {
     "duration": 0.014338,
     "end_time": "2024-04-12T04:06:59.583607",
     "exception": false,
     "start_time": "2024-04-12T04:06:59.569269",
     "status": "completed"
    },
    "tags": []
   },
   "source": [
    "### **Random Forest Regressor**"
   ]
  },
  {
   "cell_type": "code",
   "execution_count": null,
   "id": "61eace60",
   "metadata": {
    "execution": {
     "iopub.execute_input": "2024-04-12T04:06:59.613167Z",
     "iopub.status.busy": "2024-04-12T04:06:59.612709Z",
     "iopub.status.idle": "2024-04-12T04:10:09.643119Z",
     "shell.execute_reply": "2024-04-12T04:10:09.6419Z"
    },
    "papermill": {
     "duration": 190.061887,
     "end_time": "2024-04-12T04:10:09.659211",
     "exception": false,
     "start_time": "2024-04-12T04:06:59.597324",
     "status": "completed"
    },
    "tags": []
   },
   "outputs": [],
   "source": [
    "rf_model = RandomForestRegressor(n_estimators=100, random_state=42)  # You can adjust n_estimators and other hyperparameters as needed\n",
    "rf_model.fit(X_train, y_train)\n",
    "y_pred_rf = rf_model.predict(X_test)\n",
    "\n",
    "mse_rf = mean_squared_error(y_test, y_pred_rf)\n",
    "r2_rf = r2_score(y_test, y_pred_rf)\n",
    "\n",
    "print(\"| ------------------------- |\")\n",
    "print(\"| Random Forest Regression: |\")\n",
    "print(\"| RMSE:\", round(np.sqrt(mse_rf),2), '               |')\n",
    "print(\"| R-squared:\", round(r2_rf,4), '        |')\n",
    "print(\"| ------------------------- |\")"
   ]
  },
  {
   "cell_type": "markdown",
   "id": "4a8fad6d",
   "metadata": {
    "papermill": {
     "duration": 0.012773,
     "end_time": "2024-04-12T04:10:09.684809",
     "exception": false,
     "start_time": "2024-04-12T04:10:09.672036",
     "status": "completed"
    },
    "tags": []
   },
   "source": [
    "### **Gradient Boosting Regressor**"
   ]
  },
  {
   "cell_type": "code",
   "execution_count": null,
   "id": "3de51439",
   "metadata": {
    "execution": {
     "iopub.execute_input": "2024-04-12T04:10:09.712665Z",
     "iopub.status.busy": "2024-04-12T04:10:09.712299Z",
     "iopub.status.idle": "2024-04-12T04:11:45.91039Z",
     "shell.execute_reply": "2024-04-12T04:11:45.909342Z"
    },
    "papermill": {
     "duration": 96.226477,
     "end_time": "2024-04-12T04:11:45.924391",
     "exception": false,
     "start_time": "2024-04-12T04:10:09.697914",
     "status": "completed"
    },
    "tags": []
   },
   "outputs": [],
   "source": [
    "gb_model = GradientBoostingRegressor(n_estimators=100, learning_rate=0.1, max_depth=5, random_state=42)  \n",
    "gb_model.fit(X_train, y_train)\n",
    "y_pred_gb = gb_model.predict(X_test)\n",
    "\n",
    "mse_gb = mean_squared_error(y_test, y_pred_gb)\n",
    "r2_gb = r2_score(y_test, y_pred_gb)\n",
    "\n",
    "print(\"| ----------------------------- |\")\n",
    "print(\"| Gradient Boosting Regression: |\")\n",
    "print(\"| RMSE:\", round(np.sqrt(mse_rf),2), '                   |')\n",
    "print(\"| R-squared:\", round(r2_rf,4), '            |')\n",
    "print(\"| ----------------------------- |\")"
   ]
  },
  {
   "cell_type": "markdown",
   "id": "54477189",
   "metadata": {
    "papermill": {
     "duration": 0.012347,
     "end_time": "2024-04-12T04:11:45.949523",
     "exception": false,
     "start_time": "2024-04-12T04:11:45.937176",
     "status": "completed"
    },
    "tags": []
   },
   "source": [
    "### **KNN Neighbours Regressor**"
   ]
  },
  {
   "cell_type": "code",
   "execution_count": null,
   "id": "48e94db0",
   "metadata": {
    "execution": {
     "iopub.execute_input": "2024-04-12T04:11:45.978442Z",
     "iopub.status.busy": "2024-04-12T04:11:45.978132Z",
     "iopub.status.idle": "2024-04-12T04:12:14.915564Z",
     "shell.execute_reply": "2024-04-12T04:12:14.914982Z"
    },
    "papermill": {
     "duration": 28.953861,
     "end_time": "2024-04-12T04:12:14.917313",
     "exception": false,
     "start_time": "2024-04-12T04:11:45.963452",
     "status": "completed"
    },
    "tags": []
   },
   "outputs": [],
   "source": [
    "knn_model = KNeighborsRegressor(n_neighbors = 3)\n",
    "knn_model.fit(X_train, y_train)\n",
    "y_pred_knn = knn_model.predict(X_test)\n",
    "\n",
    "mse_knn = mean_squared_error(y_test, y_pred_knn)\n",
    "r2_knn = r2_score(y_test, y_pred_knn)\n",
    "\n",
    "print(\"| ------------------- |\")\n",
    "print(\"| KNN Regression:     |\")\n",
    "print(\"| RMSE:\", round(np.sqrt(mse_knn),2), '       |')\n",
    "print(\"| R-squared:\", round(r2_knn,4), '  |')\n",
    "print(\"| ------------------- |\")"
   ]
  },
  {
   "cell_type": "markdown",
   "id": "6818c098",
   "metadata": {
    "papermill": {
     "duration": 0.012524,
     "end_time": "2024-04-12T04:12:14.942899",
     "exception": false,
     "start_time": "2024-04-12T04:12:14.930375",
     "status": "completed"
    },
    "tags": []
   },
   "source": [
    "- **Plotting various Accuracies**"
   ]
  },
  {
   "cell_type": "code",
   "execution_count": null,
   "id": "f03a9b80",
   "metadata": {
    "execution": {
     "iopub.execute_input": "2024-04-12T04:12:14.970755Z",
     "iopub.status.busy": "2024-04-12T04:12:14.970392Z",
     "iopub.status.idle": "2024-04-12T04:12:14.974921Z",
     "shell.execute_reply": "2024-04-12T04:12:14.973713Z"
    },
    "papermill": {
     "duration": 0.021502,
     "end_time": "2024-04-12T04:12:14.977298",
     "exception": false,
     "start_time": "2024-04-12T04:12:14.955796",
     "status": "completed"
    },
    "tags": []
   },
   "outputs": [],
   "source": [
    "# summarizing all ML Model accuracies\n",
    "accuracy = {\"Linear Regression\" : r2_lr, \"Ridge Regression\" : r2_ridge, \"Lasso Regression\" : r2_lasso, \"Elastic Net Regression\" : r2_elasticnet, \"Decrision Tree Regressor\" : r2_dt, \"Random Forest Regressor\" : r2_rf, \"Gradient Boosting Regression\" : r2_gb, \"KNN Regressor\" : r2_knn}"
   ]
  },
  {
   "cell_type": "code",
   "execution_count": null,
   "id": "d5d2a59d",
   "metadata": {
    "execution": {
     "iopub.execute_input": "2024-04-12T04:12:15.004993Z",
     "iopub.status.busy": "2024-04-12T04:12:15.004648Z",
     "iopub.status.idle": "2024-04-12T04:12:15.258253Z",
     "shell.execute_reply": "2024-04-12T04:12:15.256854Z"
    },
    "papermill": {
     "duration": 0.2702,
     "end_time": "2024-04-12T04:12:15.260954",
     "exception": false,
     "start_time": "2024-04-12T04:12:14.990754",
     "status": "completed"
    },
    "tags": []
   },
   "outputs": [],
   "source": [
    "plt.figure(figsize=(10, 6))  # Adjust the figure size as needed\n",
    "bars = plt.barh(list(accuracy.keys()), list(accuracy.values()), color='skyblue')  # Use plt.barh for horizontal bars\n",
    "\n",
    "# Adding annotations\n",
    "for bar in bars:\n",
    "    width = bar.get_width()  # Get the width of each bar\n",
    "    plt.text(width, bar.get_y() + bar.get_height()/2, round(width, 2), ha='left', va='center')  # Position the text appropriately\n",
    "\n",
    "plt.xlabel('Accuracy', fontweight='bold')\n",
    "plt.ylabel('Models', fontweight='bold')\n",
    "plt.title('Accuracy of Machine Learning Models', fontweight='bold')\n",
    "plt.gca().invert_yaxis()  # Invert y-axis to display models from top to bottom\n",
    "plt.tight_layout()\n",
    "plt.show()"
   ]
  },
  {
   "cell_type": "markdown",
   "id": "ef571b4c",
   "metadata": {
    "papermill": {
     "duration": 0.014947,
     "end_time": "2024-04-12T04:12:15.290345",
     "exception": false,
     "start_time": "2024-04-12T04:12:15.275398",
     "status": "completed"
    },
    "tags": []
   },
   "source": [
    "We can see that **`Random Forest Regressor`** has performed the best."
   ]
  },
  {
   "cell_type": "markdown",
   "id": "d8b2c815",
   "metadata": {
    "papermill": {
     "duration": 0.013656,
     "end_time": "2024-04-12T04:12:15.318073",
     "exception": false,
     "start_time": "2024-04-12T04:12:15.304417",
     "status": "completed"
    },
    "tags": []
   },
   "source": [
    "# **THANK YOU**\n",
    "---"
   ]
  }
 ],
 "metadata": {
  "kaggle": {
   "accelerator": "none",
   "dataSources": [
    {
     "datasetId": 4172651,
     "sourceId": 7211246,
     "sourceType": "datasetVersion"
    }
   ],
   "dockerImageVersionId": 30626,
   "isGpuEnabled": false,
   "isInternetEnabled": true,
   "language": "python",
   "sourceType": "notebook"
  },
  "kernelspec": {
   "display_name": "Python 3 (ipykernel)",
   "language": "python",
   "name": "python3"
  },
  "language_info": {
   "codemirror_mode": {
    "name": "ipython",
    "version": 3
   },
   "file_extension": ".py",
   "mimetype": "text/x-python",
   "name": "python",
   "nbconvert_exporter": "python",
   "pygments_lexer": "ipython3",
   "version": "3.11.5"
  },
  "papermill": {
   "default_parameters": {},
   "duration": 392.730378,
   "end_time": "2024-04-12T04:12:15.95388",
   "environment_variables": {},
   "exception": null,
   "input_path": "__notebook__.ipynb",
   "output_path": "__notebook__.ipynb",
   "parameters": {},
   "start_time": "2024-04-12T04:05:43.223502",
   "version": "2.4.0"
  }
 },
 "nbformat": 4,
 "nbformat_minor": 5
}
